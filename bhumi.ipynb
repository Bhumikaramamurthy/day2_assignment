{
  "nbformat": 4,
  "nbformat_minor": 0,
  "metadata": {
    "colab": {
      "name": "bhumi.ipynb",
      "provenance": [],
      "authorship_tag": "ABX9TyO4do9SbAmBGqtvajjjNPNm",
      "include_colab_link": true
    },
    "kernelspec": {
      "name": "python3",
      "display_name": "Python 3"
    },
    "language_info": {
      "name": "python"
    }
  },
  "cells": [
    {
      "cell_type": "markdown",
      "metadata": {
        "id": "view-in-github",
        "colab_type": "text"
      },
      "source": [
        "<a href=\"https://colab.research.google.com/github/Bhumikaramamurthy/day2_assignment/blob/main/bhumi.ipynb\" target=\"_parent\"><img src=\"https://colab.research.google.com/assets/colab-badge.svg\" alt=\"Open In Colab\"/></a>"
      ]
    },
    {
      "cell_type": "code",
      "metadata": {
        "colab": {
          "base_uri": "https://localhost:8080/"
        },
        "id": "mU7-QnbdjYTA",
        "outputId": "23bfa5a2-ddfe-4283-bb54-83323a959ffe"
      },
      "source": [
        "#assignment 2\n",
        "#removing all occurance from the list\n",
        "li=[int(i) for i in input('enter numbers:').split()]\n",
        "print(*li)\n",
        "\n",
        "def remove_duplicates(duplist):\n",
        "    newli=[]\n",
        "    for ele in duplist:\n",
        "      if ele not in newli:\n",
        "        newli.append(ele)\n",
        "    return newli\n",
        "\n",
        "print(remove_duplicates(li))"
      ],
      "execution_count": 2,
      "outputs": [
        {
          "output_type": "stream",
          "text": [
            "enter numbers: 1 2 3  1 4 5 6 2 3 4\n",
            "1 2 3 1 4 5 6 2 3 4\n",
            "[1, 2, 3, 4, 5, 6]\n"
          ],
          "name": "stdout"
        }
      ]
    },
    {
      "cell_type": "code",
      "metadata": {
        "colab": {
          "base_uri": "https://localhost:8080/"
        },
        "id": "ECtEzdlZcD4T",
        "outputId": "478a7a1a-88d8-4b5e-fffd-1ca0f9e4ac1f"
      },
      "source": [
        "#assignment 3\n",
        "#check if the string is pangram\n",
        "import string\n",
        "def ispangram(str):\n",
        "    a=\"abcdefghijklmnopqrstuvwxyz\"\n",
        "    for char in a:\n",
        "        if char not in str.lower():\n",
        "            return False\n",
        "    return True\n",
        "string=input('enter the pangram')\n",
        "if(ispangram(string)==True):\n",
        "    print(\"yes it is a pangram\")\n",
        "else:\n",
        "    print(\"no it is not a pangram\")\n"
      ],
      "execution_count": 1,
      "outputs": [
        {
          "output_type": "stream",
          "text": [
            "enter the pangram  abc\n",
            "no it is not a pangram\n"
          ],
          "name": "stdout"
        }
      ]
    },
    {
      "cell_type": "code",
      "metadata": {
        "colab": {
          "base_uri": "https://localhost:8080/"
        },
        "id": "HXE6o1GfU8vl",
        "outputId": "61575fb6-49bc-4053-9a6c-2469f19b6d45"
      },
      "source": [
        "# project on otp generator\n",
        "import string \n",
        "import random as r\n",
        "length=6\n",
        "otp=' '\n",
        "print(\"The otp is:\")\n",
        "a=string.digits\n",
        "for i in range(length):\n",
        "  otp=otp+r.choice(a)\n",
        "print(\"OTP:\",otp)"
      ],
      "execution_count": 3,
      "outputs": [
        {
          "output_type": "stream",
          "text": [
            "The otp is:\n",
            "OTP:  357746\n"
          ],
          "name": "stdout"
        }
      ]
    }
  ]
}